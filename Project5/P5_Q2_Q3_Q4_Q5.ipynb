{
 "cells": [
  {
   "cell_type": "markdown",
   "metadata": {},
   "source": [
    "# Question-2"
   ]
  },
  {
   "cell_type": "code",
   "execution_count": 1,
   "metadata": {
    "collapsed": true
   },
   "outputs": [],
   "source": [
    "import json\n",
    "import pandas as pd\n",
    "import math\n",
    "import matplotlib.pyplot as plt"
   ]
  },
  {
   "cell_type": "code",
   "execution_count": 2,
   "metadata": {
    "collapsed": false
   },
   "outputs": [],
   "source": [
    "tweets_data_path = 'tweets_#gohawks.txt'\n",
    "\n",
    "tweets_firstpost_date = []\n",
    "tweets_title = []\n",
    "tweets_tweet = []\n",
    "tweets_metrics = []\n",
    "tweets_file = open(tweets_data_path, \"rt\" )\n",
    "for line in tweets_file:\n",
    "    try:\n",
    "        tweet = json.loads(line)\n",
    "        tweets_firstpost_date.append(tweet['firstpost_date'])\n",
    "        tweets_tweet.append(tweet['tweet'])\n",
    "        tweets_title.append(tweet['title'])\n",
    "        tweets_metrics .append(tweet['metrics'])\n",
    "    except:\n",
    "        continue\n",
    "#tweets_title"
   ]
  },
  {
   "cell_type": "code",
   "execution_count": 4,
   "metadata": {
    "collapsed": false
   },
   "outputs": [],
   "source": [
    "tweets = pd.DataFrame()\n",
    "tweets['firstpost_date'] = tweets_firstpost_date\n",
    "tweets['tweet'] = tweets_tweet\n",
    "tweets['title'] = tweets_title\n",
    "tweets['metrics'] = tweets_metrics\n",
    "Tweet_details = pd.DataFrame.from_records(tweets['tweet'])\n",
    "Metrics = pd.DataFrame.from_records(tweets['metrics'])\n",
    "#tweets"
   ]
  },
  {
   "cell_type": "code",
   "execution_count": 5,
   "metadata": {
    "collapsed": false
   },
   "outputs": [
    {
     "data": {
      "text/plain": [
       "Index([u'contributors', u'coordinates', u'created_at', u'entities',\n",
       "       u'extended_entities', u'favorite_count', u'favorited', u'filter_level',\n",
       "       u'geo', u'id', u'id_str', u'in_reply_to_screen_name',\n",
       "       u'in_reply_to_status_id', u'in_reply_to_status_id_str',\n",
       "       u'in_reply_to_user_id', u'in_reply_to_user_id_str', u'lang', u'place',\n",
       "       u'possibly_sensitive', u'retweet_count', u'retweeted', u'scopes',\n",
       "       u'source', u'text', u'timestamp_ms', u'truncated', u'user'],\n",
       "      dtype='object')"
      ]
     },
     "execution_count": 5,
     "metadata": {},
     "output_type": "execute_result"
    }
   ],
   "source": [
    "Tweet_details.keys()"
   ]
  },
  {
   "cell_type": "code",
   "execution_count": 6,
   "metadata": {
    "collapsed": false
   },
   "outputs": [],
   "source": [
    "tweet_user = []\n",
    "for elements in Tweet_details['user']:\n",
    "    tweet_user.append(elements)\n",
    "tweet_user = pd.DataFrame(tweet_user)\n",
    "#tweet_user"
   ]
  },
  {
   "cell_type": "code",
   "execution_count": 7,
   "metadata": {
    "collapsed": false
   },
   "outputs": [
    {
     "name": "stdout",
     "output_type": "stream",
     "text": [
      "[1, 1, 1]\n"
     ]
    },
    {
     "data": {
      "text/plain": [
       "890"
      ]
     },
     "execution_count": 7,
     "metadata": {},
     "output_type": "execute_result"
    }
   ],
   "source": [
    "from datetime import datetime\n",
    "\n",
    "tweet_initial = 1420102800\n",
    "tweet_final = tweets.firstpost_date[len(tweets.firstpost_date)-1]\n",
    "n_bins = int(math.ceil((tweet_final - tweet_initial)/3600)+1)\n",
    "\n",
    "tweet_initial = [datetime.fromtimestamp(1420102800).month,\n",
    "                     datetime.fromtimestamp(1420102800).day,\n",
    "                     datetime.fromtimestamp(1420102800).hour]\n",
    "\n",
    "Time_stamps = []\n",
    "for x in tweets['firstpost_date']:\n",
    "   Time_stamps.append([datetime.fromtimestamp(x).month,  datetime.fromtimestamp(x).day,  datetime.fromtimestamp(x).hour,\n",
    "                       datetime.fromtimestamp(x).year])\n",
    "print(tweet_initial)\n",
    "\n",
    "n_bins"
   ]
  },
  {
   "cell_type": "code",
   "execution_count": 8,
   "metadata": {
    "collapsed": false
   },
   "outputs": [],
   "source": [
    "import numpy as np\n",
    "n_tweets = np.zeros((n_bins,1))\n",
    "n_retweets = np.zeros((n_bins,1))\n",
    "n_followers = np.zeros((n_bins,1))\n",
    "max_followers = np.zeros((n_bins,1))\n",
    "n_hours = np.zeros((n_bins,1))\n",
    "day_of_week = np.zeros((n_bins,1))\n",
    "index = 0\n",
    "for Time in Time_stamps:\n",
    "    if (Time[3]>2014):\n",
    "        index_2 = (Time[0]-tweet_initial[0])*31*24 + (Time[1]-tweet_initial[1])*24 + (Time[2]-tweet_initial[2])\n",
    "        #index_2 = 8760*(Time[3]-2014) + (Time[0]-tweet_initial[0])*31*24 + (Time[1]-tweet_initial[1])*24 + (Time[2]-tweet_initial[2])\n",
    "        n_tweets[index_2] += 1\n",
    "        n_retweets[index_2] += Tweet_details.retweet_count[index]\n",
    "        n_followers[index_2] += tweet_user.followers_count[index]\n",
    "        max_followers[index_2] = max(tweet_user.followers_count[index], max_followers[index_2])\n",
    "    index +=1\n",
    "for i in range (0,n_bins):\n",
    "    n_hours[i] = (i+tweet_initial[2]) % 24 \n",
    "    day_of_week[i] = (np.ceil((i+12) / 24)+4) % 7\n",
    "features_1 = np.concatenate((n_hours[0:-1], n_tweets[0:-1], n_retweets[0:-1], n_followers[0:-1], max_followers[0:-1] ), axis=1)\n",
    "#features = [n_hours[0:-1], n_tweets[0:-1], n_retweets[0:-1], n_followers[0:-1], max_followers[0:-1]]\n",
    "#features_1 = pd.DataFrame(features_1)\n",
    "features_1\n",
    "target = n_tweets[1:len(n_tweets)]"
   ]
  },
  {
   "cell_type": "code",
   "execution_count": 9,
   "metadata": {
    "collapsed": false
   },
   "outputs": [
    {
     "name": "stdout",
     "output_type": "stream",
     "text": [
      "                            OLS Regression Results                            \n",
      "==============================================================================\n",
      "Dep. Variable:                      y   R-squared:                       0.467\n",
      "Model:                            OLS   Adj. R-squared:                  0.464\n",
      "Method:                 Least Squares   F-statistic:                     154.5\n",
      "Date:                Wed, 22 Mar 2017   Prob (F-statistic):          7.17e-118\n",
      "Time:                        20:13:32   Log-Likelihood:                -7201.0\n",
      "No. Observations:                 889   AIC:                         1.441e+04\n",
      "Df Residuals:                     883   BIC:                         1.444e+04\n",
      "Df Model:                           5                                         \n",
      "Covariance Type:            nonrobust                                         \n",
      "==============================================================================\n",
      "                 coef    std err          t      P>|t|      [95.0% Conf. Int.]\n",
      "------------------------------------------------------------------------------\n",
      "const         70.1859     52.086      1.347      0.178       -32.041   172.413\n",
      "x1             1.2420      3.915      0.317      0.751        -6.441     8.925\n",
      "x2             0.5885      0.118      5.000      0.000         0.357     0.819\n",
      "x3             0.0122      0.039      0.313      0.755        -0.064     0.089\n",
      "x4          7.452e-05   6.64e-05      1.122      0.262     -5.58e-05     0.000\n",
      "x5            -0.0003      0.000     -2.084      0.037        -0.001 -1.53e-05\n",
      "==============================================================================\n",
      "Omnibus:                     1582.824   Durbin-Watson:                   2.309\n",
      "Prob(Omnibus):                  0.000   Jarque-Bera (JB):          3273204.595\n",
      "Skew:                          11.385   Prob(JB):                         0.00\n",
      "Kurtosis:                     299.390   Cond. No.                     4.59e+06\n",
      "==============================================================================\n",
      "\n",
      "Warnings:\n",
      "[1] Standard Errors assume that the covariance matrix of the errors is correctly specified.\n",
      "[2] The condition number is large, 4.59e+06. This might indicate that there are\n",
      "strong multicollinearity or other numerical problems.\n"
     ]
    }
   ],
   "source": [
    "import statsmodels.api as sm\n",
    "def reg_m(y, x):\n",
    "    #ones = np.ones(len(x[0]))\n",
    "    X = sm.add_constant(x)\n",
    "    results = sm.regression.linear_model.OLS(y, X).fit()\n",
    "    return results\n",
    "\n",
    "model = reg_m(target, features_1)\n",
    "print model.summary()"
   ]
  },
  {
   "cell_type": "markdown",
   "metadata": {},
   "source": [
    "# Question-3"
   ]
  },
  {
   "cell_type": "code",
   "execution_count": 53,
   "metadata": {
    "collapsed": false
   },
   "outputs": [
    {
     "data": {
      "text/plain": [
       "array([[ 1.],\n",
       "       [ 2.],\n",
       "       [ 7.],\n",
       "       ..., \n",
       "       [ 4.],\n",
       "       [ 3.],\n",
       "       [ 3.]])"
      ]
     },
     "execution_count": 53,
     "metadata": {},
     "output_type": "execute_result"
    }
   ],
   "source": [
    "hashes = []\n",
    "for elements in Tweet_details['entities']:\n",
    "    hashes.append(elements)\n",
    "Hashtags = pd.DataFrame.from_records(hashes)\n",
    "hashtags_per_tweet = np.zeros((len(tweets),1))\n",
    "x = 0\n",
    "for elements in Hashtags.hashtags:\n",
    "    for elements2 in elements:\n",
    "        hashtags_per_tweet[x] += 1\n",
    "    x = x+1\n",
    "hashtags_per_tweet"
   ]
  },
  {
   "cell_type": "code",
   "execution_count": 54,
   "metadata": {
    "collapsed": false
   },
   "outputs": [],
   "source": [
    "n_hashtags = np.zeros((n_bins,1))\n",
    "sum_favourited = np.zeros((n_bins,1))\n",
    "sum_friends = np.zeros((n_bins,1))\n",
    "n_verified_users = np.zeros((n_bins,1))\n",
    "sum_citations = np.zeros((n_bins,1))\n",
    "sum_ranking_score = np.zeros((n_bins,1))\n",
    "sum_statuses_count = np.zeros((n_bins,1))\n",
    "\n",
    "index = 0\n",
    "for Time in Time_stamps:\n",
    "    if (Time[3]>2014):\n",
    "        index_2 = (Time[0]-tweet_initial[0])*31*24 + (Time[1]-tweet_initial[1])*24 + (Time[2]-tweet_initial[2])\n",
    "        n_hashtags[index_2] += hashtags_per_tweet[index]\n",
    "        sum_favourited[index_2] += Tweet_details.favorite_count[index]\n",
    "        sum_friends[index_2] += tweet_user.friends_count[index]\n",
    "        n_verified_users[index_2] += tweet_user.verified[index]*1\n",
    "        sum_citations[index_2] += tweets.metrics[index]['citations']['total']\n",
    "        sum_ranking_score[index_2] += tweets.metrics[index]['ranking_score'] \n",
    "        sum_statuses_count[index_2] += tweet_user.statuses_count[index]\n",
    "    index +=1\n",
    "new_features_1 = np.concatenate((n_tweets[0:-1], n_retweets[0:-1],n_followers[0:-1],\n",
    "                                 n_hashtags[0:-1], sum_favourited[0:-1],sum_friends[0:-1],\n",
    "                                 n_verified_users[0:-1], sum_citations[0:-1], sum_ranking_score[0:-1],\n",
    "                                 sum_statuses_count[0:-1]),axis=1)\n",
    "#new_features = ([n_tweets[0:-1], n_retweets[0:-1], n_followers[0:-1], \n",
    "#                n_hashtags[0:-1], sum_favourited[0:-1],sum_friends[0:-1],\n",
    "#               n_verified_users[0:-1], sum_citations[0:-1], sum_ranking_score[0:-1], sum_statuses_count[0:-1]])\n",
    "#new_features = pd.DataFrame(new_features)\n",
    "#new_features_1"
   ]
  },
  {
   "cell_type": "code",
   "execution_count": 55,
   "metadata": {
    "collapsed": false,
    "scrolled": false
   },
   "outputs": [
    {
     "name": "stdout",
     "output_type": "stream",
     "text": [
      "                            OLS Regression Results                            \n",
      "==============================================================================\n",
      "Dep. Variable:                      y   R-squared:                       0.622\n",
      "Model:                            OLS   Adj. R-squared:                  0.618\n",
      "Method:                 Least Squares   F-statistic:                     144.4\n",
      "Date:                Wed, 22 Mar 2017   Prob (F-statistic):          8.85e-178\n",
      "Time:                        19:55:19   Log-Likelihood:                -7048.0\n",
      "No. Observations:                 889   AIC:                         1.412e+04\n",
      "Df Residuals:                     878   BIC:                         1.417e+04\n",
      "Df Model:                          10                                         \n",
      "Covariance Type:            nonrobust                                         \n",
      "==============================================================================\n",
      "                 coef    std err          t      P>|t|      [95.0% Conf. Int.]\n",
      "------------------------------------------------------------------------------\n",
      "const        -16.4004     25.062     -0.654      0.513       -65.589    32.788\n",
      "x1            -8.4900      3.126     -2.716      0.007       -14.625    -2.355\n",
      "x2            -0.0738      0.187     -0.394      0.694        -0.442     0.294\n",
      "x3            -0.0003    4.6e-05     -6.500      0.000        -0.000    -0.000\n",
      "x4             1.3220      0.233      5.664      0.000         0.864     1.780\n",
      "x5             0.0603      0.083      0.729      0.466        -0.102     0.223\n",
      "x6             0.0005      0.000      1.542      0.123        -0.000     0.001\n",
      "x7            41.8756     10.089      4.150      0.000        22.073    61.678\n",
      "x8            -0.0279      0.069     -0.404      0.686        -0.163     0.108\n",
      "x9             1.1323      0.620      1.826      0.068        -0.085     2.349\n",
      "x10            0.0001   2.61e-05      5.206      0.000      8.45e-05     0.000\n",
      "==============================================================================\n",
      "Omnibus:                     1892.129   Durbin-Watson:                   2.100\n",
      "Prob(Omnibus):                  0.000   Jarque-Bera (JB):          6511999.381\n",
      "Skew:                          17.001   Prob(JB):                         0.00\n",
      "Kurtosis:                     420.907   Cond. No.                     1.10e+07\n",
      "==============================================================================\n",
      "\n",
      "Warnings:\n",
      "[1] Standard Errors assume that the covariance matrix of the errors is correctly specified.\n",
      "[2] The condition number is large, 1.1e+07. This might indicate that there are\n",
      "strong multicollinearity or other numerical problems.\n"
     ]
    }
   ],
   "source": [
    "new_model = reg_m(target, new_features_1)\n",
    "print new_model.summary()"
   ]
  },
  {
   "cell_type": "code",
   "execution_count": 12,
   "metadata": {
    "collapsed": false
   },
   "outputs": [],
   "source": [
    "new_features_2 = np.concatenate((n_tweets[0:-1], n_retweets[0:-1],n_followers[0:-1],\n",
    "                                 n_hashtags[0:-1],\n",
    "                                sum_ranking_score[0:-1]),axis=1)"
   ]
  },
  {
   "cell_type": "code",
   "execution_count": 13,
   "metadata": {
    "collapsed": false
   },
   "outputs": [
    {
     "name": "stdout",
     "output_type": "stream",
     "text": [
      "                            OLS Regression Results                            \n",
      "==============================================================================\n",
      "Dep. Variable:                      y   R-squared:                       0.591\n",
      "Model:                            OLS   Adj. R-squared:                  0.589\n",
      "Method:                 Least Squares   F-statistic:                     255.4\n",
      "Date:                Wed, 22 Mar 2017   Prob (F-statistic):          9.38e-169\n",
      "Time:                        18:56:37   Log-Likelihood:                -7082.7\n",
      "No. Observations:                 889   AIC:                         1.418e+04\n",
      "Df Residuals:                     883   BIC:                         1.421e+04\n",
      "Df Model:                           5                                         \n",
      "Covariance Type:            nonrobust                                         \n",
      "==============================================================================\n",
      "                 coef    std err          t      P>|t|      [95.0% Conf. Int.]\n",
      "------------------------------------------------------------------------------\n",
      "const         28.0421     24.902      1.126      0.260       -20.833    76.917\n",
      "x1           -21.7581      2.424     -8.976      0.000       -26.516   -17.001\n",
      "x2             0.0593      0.034      1.734      0.083        -0.008     0.126\n",
      "x3            -0.0003   4.23e-05     -6.161      0.000        -0.000    -0.000\n",
      "x4             2.7020      0.165     16.396      0.000         2.379     3.025\n",
      "x5             3.8047      0.480      7.926      0.000         2.863     4.747\n",
      "==============================================================================\n",
      "Omnibus:                     1876.822   Durbin-Watson:                   2.208\n",
      "Prob(Omnibus):                  0.000   Jarque-Bera (JB):          6178001.163\n",
      "Skew:                          16.694   Prob(JB):                         0.00\n",
      "Kurtosis:                     410.026   Cond. No.                     2.48e+06\n",
      "==============================================================================\n",
      "\n",
      "Warnings:\n",
      "[1] Standard Errors assume that the covariance matrix of the errors is correctly specified.\n",
      "[2] The condition number is large, 2.48e+06. This might indicate that there are\n",
      "strong multicollinearity or other numerical problems.\n"
     ]
    }
   ],
   "source": [
    "new_model2 = reg_m(target, new_features_2)\n",
    "print new_model2.summary()"
   ]
  },
  {
   "cell_type": "code",
   "execution_count": 14,
   "metadata": {
    "collapsed": false
   },
   "outputs": [
    {
     "data": {
      "image/png": "[encoded data removed]",
      "text/plain": [
       "<matplotlib.figure.Figure at 0x12cd7f2e8>"
      ]
     },
     "metadata": {},
     "output_type": "display_data"
    }
   ],
   "source": [
    "plt.clf()\n",
    "plt.scatter(np.log10(new_features_1[0:,3]+2),np.log10(target+2))\n",
    "plt.xlabel('log(Number of Hashtags)')\n",
    "plt.ylabel('log(Predictant)')\n",
    "plt.show()"
   ]
  },
  {
   "cell_type": "code",
   "execution_count": 15,
   "metadata": {
    "collapsed": false
   },
   "outputs": [
    {
     "data": {
      "image/png": "[encoded data removed]",
      "text/plain": [
       "<matplotlib.figure.Figure at 0x12cf732e8>"
      ]
     },
     "metadata": {},
     "output_type": "display_data"
    }
   ],
   "source": [
    "plt.clf()\n",
    "plt.scatter(np.log10(new_features_1[0:,2]+3),np.log10(target+3))\n",
    "plt.xlabel('log(Number of Followers)')\n",
    "plt.ylabel('log(Predictant)')\n",
    "plt.show()"
   ]
  },
  {
   "cell_type": "code",
   "execution_count": 16,
   "metadata": {
    "collapsed": false
   },
   "outputs": [
    {
     "data": {
      "image/png": "[encoded data removed]",
      "text/plain": [
       "<matplotlib.figure.Figure at 0x12f086a20>"
      ]
     },
     "metadata": {},
     "output_type": "display_data"
    }
   ],
   "source": [
    "plt.clf()\n",
    "plt.scatter(np.log10(new_features_1[0:,9]+1),np.log10(target+1))\n",
    "plt.xlabel('log(Sum of Status Count)')\n",
    "plt.ylabel('log(Predictant)')\n",
    "plt.show()"
   ]
  },
  {
   "cell_type": "markdown",
   "metadata": {
    "collapsed": true
   },
   "source": [
    "# Question-4"
   ]
  },
  {
   "cell_type": "code",
   "execution_count": 17,
   "metadata": {
    "collapsed": false
   },
   "outputs": [
    {
     "name": "stdout",
     "output_type": "stream",
     "text": [
      "[2, 1, 8]\n",
      "548\n",
      "560\n"
     ]
    }
   ],
   "source": [
    "#1422806400 - Feb. 1, 8:00 a.m.\n",
    "#1422849600 - Feb. 1, 8:00 p.m.\n",
    "#Periods = [1422806400, 1422849600]\n",
    "Periods = [[2, 1, 8], [2, 1, 20]]\n",
    "\n",
    "index_period1 = (Periods[0][0]-1)*31*24 + (Periods[0][1]-9)*24 + (Periods[0][2]-12)\n",
    "index_period2 = (Periods[1][0]-1)*31*24 + (Periods[1][1]-9)*24 + (Periods[1][2]-12)\n",
    "\n",
    "print(Periods[0])\n",
    "print(index_period1)\n",
    "print(index_period2)"
   ]
  },
  {
   "cell_type": "code",
   "execution_count": 18,
   "metadata": {
    "collapsed": false
   },
   "outputs": [],
   "source": [
    "features_period1 = new_features_1[:index_period1]\n",
    "features_period2 = new_features_1[index_period1:index_period2]\n",
    "features_period3 = new_features_1[index_period2:]\n",
    "target_period1 = target[:index_period1]\n",
    "target_period2 = target[index_period1:index_period2]\n",
    "target_period3 = target[index_period2:]"
   ]
  },
  {
   "cell_type": "code",
   "execution_count": 29,
   "metadata": {
    "collapsed": false
   },
   "outputs": [
    {
     "name": "stdout",
     "output_type": "stream",
     "text": [
      "[  -9.11785492   -9.89090131  -17.01095825  -35.76851827 -273.99321591\n",
      "  -83.0296043  -502.19776694 -845.06645245 -152.74838641 -145.65575066]\n",
      "Average 207.45\n"
     ]
    }
   ],
   "source": [
    "from sklearn import linear_model\n",
    "from sklearn.model_selection import KFold, cross_val_score\n",
    "import math\n",
    "regr = linear_model.LinearRegression()\n",
    "period1_cv = cross_val_score(regr, features_period1, target_period1, cv=10, n_jobs=-1, scoring='neg_mean_absolute_error')\n",
    "print period1_cv\n",
    "period1_cv = np.mean(period1_cv)\n",
    "print 'Average %0.2f' % abs(period1_cv)"
   ]
  },
  {
   "cell_type": "code",
   "execution_count": 30,
   "metadata": {
    "collapsed": false
   },
   "outputs": [
    {
     "name": "stdout",
     "output_type": "stream",
     "text": [
      "[ -185.291597    -642.19597072  -106.13774124  -191.11216762  -114.20723003\n",
      "  -349.93680608  -233.94153466  -154.12059558  -294.46458705 -2058.81888367]\n",
      "Average 433.02\n"
     ]
    }
   ],
   "source": [
    "regr = linear_model.LinearRegression()\n",
    "period2_cv = cross_val_score(regr, features_period2, target_period2, cv=10, n_jobs=-1, scoring='neg_mean_absolute_error')\n",
    "print period2_cv\n",
    "period2_cv = np.mean(period2_cv)\n",
    "print 'Average %0.2f' % abs(period2_cv)"
   ]
  },
  {
   "cell_type": "code",
   "execution_count": 31,
   "metadata": {
    "collapsed": false
   },
   "outputs": [
    {
     "name": "stdout",
     "output_type": "stream",
     "text": [
      "[ -187.20952882  -202.36747625  -210.28151945  -132.51497039  -115.99542318\n",
      "  -602.01361791 -1188.53878513  -111.29545122  -111.08473145  -115.19927535]\n",
      "Average 297.65\n"
     ]
    }
   ],
   "source": [
    "regr = linear_model.LinearRegression()\n",
    "period3_cv = cross_val_score(regr, features_period3, target_period3, cv=10, n_jobs=-1, scoring='neg_mean_absolute_error')\n",
    "print period3_cv\n",
    "period3_cv = np.mean(period3_cv)\n",
    "print 'Average %0.2f' % abs(period3_cv)"
   ]
  },
  {
   "cell_type": "markdown",
   "metadata": {
    "collapsed": true
   },
   "source": [
    "# Question-5"
   ]
  },
  {
   "cell_type": "code",
   "execution_count": 10,
   "metadata": {
    "collapsed": false
   },
   "outputs": [
    {
     "data": {
      "text/plain": [
       "[1422554405,\n",
       " 1422554420,\n",
       " 1422554426,\n",
       " 1422554446,\n",
       " 1422554451,\n",
       " 1422554498,\n",
       " 1422554523,\n",
       " 1422554563,\n",
       " 1422554565,\n",
       " 1422554582,\n",
       " 1422554592,\n",
       " 1422554597,\n",
       " 1422554714,\n",
       " 1422554733,\n",
       " 1422554739,\n",
       " 1422554794,\n",
       " 1422554820,\n",
       " 1422554853,\n",
       " 1422554873,\n",
       " 1422554959,\n",
       " 1422554975,\n",
       " 1422555011,\n",
       " 1422555030,\n",
       " 1422555050,\n",
       " 1422555065,\n",
       " 1422555080,\n",
       " 1422555090,\n",
       " 1422555123,\n",
       " 1422555138,\n",
       " 1422555157,\n",
       " 1422555159,\n",
       " 1422555162,\n",
       " 1422555179,\n",
       " 1422555209,\n",
       " 1422555218,\n",
       " 1422555235,\n",
       " 1422555259,\n",
       " 1422555312,\n",
       " 1422555346,\n",
       " 1422555375,\n",
       " 1422555383,\n",
       " 1422555387,\n",
       " 1422555396,\n",
       " 1422555430,\n",
       " 1422555447,\n",
       " 1422555487,\n",
       " 1422555501,\n",
       " 1422555514,\n",
       " 1422555521,\n",
       " 1422555542,\n",
       " 1422555545,\n",
       " 1422555574,\n",
       " 1422555582,\n",
       " 1422555612,\n",
       " 1422555615,\n",
       " 1422555659,\n",
       " 1422555660,\n",
       " 1422555683,\n",
       " 1422555686,\n",
       " 1422555710,\n",
       " 1422555727,\n",
       " 1422555739,\n",
       " 1422555743,\n",
       " 1422555743,\n",
       " 1422555794,\n",
       " 1422555812,\n",
       " 1422555836,\n",
       " 1422555837,\n",
       " 1422555882,\n",
       " 1422555936,\n",
       " 1422555967,\n",
       " 1422555967,\n",
       " 1422555983,\n",
       " 1422555998,\n",
       " 1422556051,\n",
       " 1422556066,\n",
       " 1422556092,\n",
       " 1422556119,\n",
       " 1422556204,\n",
       " 1422556213,\n",
       " 1422556243,\n",
       " 1422556271,\n",
       " 1422556320,\n",
       " 1422556412,\n",
       " 1422556451,\n",
       " 1422556457,\n",
       " 1422556469,\n",
       " 1422556627,\n",
       " 1422556651,\n",
       " 1422556665,\n",
       " 1422556690,\n",
       " 1422556705,\n",
       " 1422556771,\n",
       " 1422556778,\n",
       " 1422556778,\n",
       " 1422556791,\n",
       " 1422556801,\n",
       " 1422556880,\n",
       " 1422556899,\n",
       " 1422556911,\n",
       " 1422556939,\n",
       " 1422557020,\n",
       " 1422557026,\n",
       " 1422557068,\n",
       " 1422557078,\n",
       " 1422557090,\n",
       " 1422557106,\n",
       " 1422557106,\n",
       " 1422557114,\n",
       " 1422557137,\n",
       " 1422557146,\n",
       " 1422557148,\n",
       " 1422557174,\n",
       " 1422557198,\n",
       " 1422557228,\n",
       " 1422557281,\n",
       " 1422557352,\n",
       " 1422557373,\n",
       " 1422557400,\n",
       " 1422557428,\n",
       " 1422557435,\n",
       " 1422557476,\n",
       " 1422557502,\n",
       " 1422557506,\n",
       " 1422557633,\n",
       " 1422557641,\n",
       " 1422557696,\n",
       " 1422557696,\n",
       " 1422557696,\n",
       " 1422557800,\n",
       " 1422557822,\n",
       " 1422557863,\n",
       " 1422557885,\n",
       " 1422557888,\n",
       " 1422557891,\n",
       " 1422557940,\n",
       " 1422557946,\n",
       " 1422558008,\n",
       " 1422558022,\n",
       " 1422558029,\n",
       " 1422558033,\n",
       " 1422558039,\n",
       " 1422558135,\n",
       " 1422558225,\n",
       " 1422558227,\n",
       " 1422558274,\n",
       " 1422558278,\n",
       " 1422558279,\n",
       " 1422558297,\n",
       " 1422558306,\n",
       " 1422558329,\n",
       " 1422558392,\n",
       " 1422558458,\n",
       " 1422558488,\n",
       " 1422558513,\n",
       " 1422558541,\n",
       " 1422558627,\n",
       " 1422558642,\n",
       " 1422558647,\n",
       " 1422558667,\n",
       " 1422558702,\n",
       " 1422558715,\n",
       " 1422558751,\n",
       " 1422558799,\n",
       " 1422558986,\n",
       " 1422559016,\n",
       " 1422559046,\n",
       " 1422559081,\n",
       " 1422559118,\n",
       " 1422559200,\n",
       " 1422559212,\n",
       " 1422559251,\n",
       " 1422559313,\n",
       " 1422559377,\n",
       " 1422559378,\n",
       " 1422559408,\n",
       " 1422559458,\n",
       " 1422559547,\n",
       " 1422559565,\n",
       " 1422559597,\n",
       " 1422559632,\n",
       " 1422559685,\n",
       " 1422559692,\n",
       " 1422559724,\n",
       " 1422559775,\n",
       " 1422559851,\n",
       " 1422559892,\n",
       " 1422559950,\n",
       " 1422559950,\n",
       " 1422559983,\n",
       " 1422560066,\n",
       " 1422560093,\n",
       " 1422560113,\n",
       " 1422560265,\n",
       " 1422560371,\n",
       " 1422560476,\n",
       " 1422560528,\n",
       " 1422560666,\n",
       " 1422560679,\n",
       " 1422560690,\n",
       " 1422560717,\n",
       " 1422560755,\n",
       " 1422560765,\n",
       " 1422560812,\n",
       " 1422560850,\n",
       " 1422560924,\n",
       " 1422560988,\n",
       " 1422560994,\n",
       " 1422561013,\n",
       " 1422561014,\n",
       " 1422561028,\n",
       " 1422561131,\n",
       " 1422561161,\n",
       " 1422561205,\n",
       " 1422561284,\n",
       " 1422561392,\n",
       " 1422561420,\n",
       " 1422561485,\n",
       " 1422561591,\n",
       " 1422561626,\n",
       " 1422561637,\n",
       " 1422561654,\n",
       " 1422561778,\n",
       " 1422561816,\n",
       " 1422561927,\n",
       " 1422562024,\n",
       " 1422562101,\n",
       " 1422562128,\n",
       " 1422562173,\n",
       " 1422562221,\n",
       " 1422562265,\n",
       " 1422562437,\n",
       " 1422562657,\n",
       " 1422562721,\n",
       " 1422562735,\n",
       " 1422562797,\n",
       " 1422562922,\n",
       " 1422562931,\n",
       " 1422562985,\n",
       " 1422562997,\n",
       " 1422563007,\n",
       " 1422563025,\n",
       " 1422563035,\n",
       " 1422563102,\n",
       " 1422563102,\n",
       " 1422563162,\n",
       " 1422563203,\n",
       " 1422563213,\n",
       " 1422563278,\n",
       " 1422563321,\n",
       " 1422563401,\n",
       " 1422563428,\n",
       " 1422563459,\n",
       " 1422563461,\n",
       " 1422563476,\n",
       " 1422563494,\n",
       " 1422563566,\n",
       " 1422563599,\n",
       " 1422563622,\n",
       " 1422563653,\n",
       " 1422563817,\n",
       " 1422563985,\n",
       " 1422564095,\n",
       " 1422564206,\n",
       " 1422564286,\n",
       " 1422564291,\n",
       " 1422564308,\n",
       " 1422564330,\n",
       " 1422564332,\n",
       " 1422564333,\n",
       " 1422564394,\n",
       " 1422564442,\n",
       " 1422564537,\n",
       " 1422564546,\n",
       " 1422564571,\n",
       " 1422564635,\n",
       " 1422564704,\n",
       " 1422564723,\n",
       " 1422564745,\n",
       " 1422564817,\n",
       " 1422564870,\n",
       " 1422564907,\n",
       " 1422564910,\n",
       " 1422564972,\n",
       " 1422564991,\n",
       " 1422565170,\n",
       " 1422565179,\n",
       " 1422565222,\n",
       " 1422565224,\n",
       " 1422565239,\n",
       " 1422565255,\n",
       " 1422565305,\n",
       " 1422565387,\n",
       " 1422565387,\n",
       " 1422565423,\n",
       " 1422565434,\n",
       " 1422565446,\n",
       " 1422565456,\n",
       " 1422565487,\n",
       " 1422565550,\n",
       " 1422565587,\n",
       " 1422565596,\n",
       " 1422565657,\n",
       " 1422565694,\n",
       " 1422565739,\n",
       " 1422565867,\n",
       " 1422565875,\n",
       " 1422565886,\n",
       " 1422565916,\n",
       " 1422566121,\n",
       " 1422566132,\n",
       " 1422566133,\n",
       " 1422566136,\n",
       " 1422566151,\n",
       " 1422566161,\n",
       " 1422566198,\n",
       " 1422566231,\n",
       " 1422566283,\n",
       " 1422566319,\n",
       " 1422566587,\n",
       " 1422566623,\n",
       " 1422566636,\n",
       " 1422566681,\n",
       " 1422566688,\n",
       " 1422566723,\n",
       " 1422566731,\n",
       " 1422566831,\n",
       " 1422566878,\n",
       " 1422566884,\n",
       " 1422566925,\n",
       " 1422567016,\n",
       " 1422567045,\n",
       " 1422567064,\n",
       " 1422567175,\n",
       " 1422567251,\n",
       " 1422567268,\n",
       " 1422567310,\n",
       " 1422567337,\n",
       " 1422567367,\n",
       " 1422567386,\n",
       " 1422567390,\n",
       " 1422567397,\n",
       " 1422567451,\n",
       " 1422567466,\n",
       " 1422567552,\n",
       " 1422567717,\n",
       " 1422567728,\n",
       " 1422567739,\n",
       " 1422567830,\n",
       " 1422567840,\n",
       " 1422567863,\n",
       " 1422567867,\n",
       " 1422568000,\n",
       " 1422568003,\n",
       " 1422568008,\n",
       " 1422568015,\n",
       " 1422568129,\n",
       " 1422568152,\n",
       " 1422568153,\n",
       " 1422568172,\n",
       " 1422568222,\n",
       " 1422568288,\n",
       " 1422568347,\n",
       " 1422568359,\n",
       " 1422568370,\n",
       " 1422568386,\n",
       " 1422568403,\n",
       " 1422568409,\n",
       " 1422568433,\n",
       " 1422568435,\n",
       " 1422568463,\n",
       " 1422568463,\n",
       " 1422568474,\n",
       " 1422568494,\n",
       " 1422568515,\n",
       " 1422568517,\n",
       " 1422568534,\n",
       " 1422568576,\n",
       " 1422568610,\n",
       " 1422568635,\n",
       " 1422568716,\n",
       " 1422568805,\n",
       " 1422568812,\n",
       " 1422568830,\n",
       " 1422568845,\n",
       " 1422568858,\n",
       " 1422569034,\n",
       " 1422569074,\n",
       " 1422569074,\n",
       " 1422569075,\n",
       " 1422569075,\n",
       " 1422569077,\n",
       " 1422569078,\n",
       " 1422569078,\n",
       " 1422569078,\n",
       " 1422569078,\n",
       " 1422569078,\n",
       " 1422569078,\n",
       " 1422569078,\n",
       " 1422569079,\n",
       " 1422569082,\n",
       " 1422569082,\n",
       " 1422569088,\n",
       " 1422569091,\n",
       " 1422569094,\n",
       " 1422569095,\n",
       " 1422569096,\n",
       " 1422569098,\n",
       " 1422569100,\n",
       " 1422569101,\n",
       " 1422569105,\n",
       " 1422569107,\n",
       " 1422569108,\n",
       " 1422569110,\n",
       " 1422569147,\n",
       " 1422569152,\n",
       " 1422569414,\n",
       " 1422569435,\n",
       " 1422569455,\n",
       " 1422569492,\n",
       " 1422569497,\n",
       " 1422569528,\n",
       " 1422569552,\n",
       " 1422569608,\n",
       " 1422569625,\n",
       " 1422569634,\n",
       " 1422569733,\n",
       " 1422569745,\n",
       " 1422569882,\n",
       " 1422570010,\n",
       " 1422570074,\n",
       " 1422570149,\n",
       " 1422570169,\n",
       " 1422570190,\n",
       " 1422570388,\n",
       " 1422570440,\n",
       " 1422570459,\n",
       " 1422570476,\n",
       " 1422570561,\n",
       " 1422570636,\n",
       " 1422570760,\n",
       " 1422570802,\n",
       " 1422570859,\n",
       " 1422570891,\n",
       " 1422570955,\n",
       " 1422570964,\n",
       " 1422570999,\n",
       " 1422571006,\n",
       " 1422571013,\n",
       " 1422571036,\n",
       " 1422571046,\n",
       " 1422571064,\n",
       " 1422571097,\n",
       " 1422571144,\n",
       " 1422571180,\n",
       " 1422571200,\n",
       " 1422571242,\n",
       " 1422571242,\n",
       " 1422571255,\n",
       " 1422571312,\n",
       " 1422571365,\n",
       " 1422571367,\n",
       " 1422571396,\n",
       " 1422571403,\n",
       " 1422571415,\n",
       " 1422571443,\n",
       " 1422571456,\n",
       " 1422571461,\n",
       " 1422571469,\n",
       " 1422571491,\n",
       " 1422571494,\n",
       " 1422571502,\n",
       " 1422571504,\n",
       " 1422571508,\n",
       " 1422571521,\n",
       " 1422571565,\n",
       " 1422571574,\n",
       " 1422571584,\n",
       " 1422571584,\n",
       " 1422571609,\n",
       " 1422571609,\n",
       " 1422571618,\n",
       " 1422571629,\n",
       " 1422571639,\n",
       " 1422571651,\n",
       " 1422571660,\n",
       " 1422571667,\n",
       " 1422571675,\n",
       " 1422571695,\n",
       " 1422571706,\n",
       " 1422571736,\n",
       " 1422571741,\n",
       " 1422571758,\n",
       " 1422571767,\n",
       " 1422571771,\n",
       " 1422571783,\n",
       " 1422571791,\n",
       " 1422571800,\n",
       " 1422571806,\n",
       " 1422571807,\n",
       " 1422571810,\n",
       " 1422571819,\n",
       " 1422571819,\n",
       " 1422571827,\n",
       " 1422571835,\n",
       " 1422571842,\n",
       " 1422571861,\n",
       " 1422571868,\n",
       " 1422571876,\n",
       " 1422571885,\n",
       " 1422571902,\n",
       " 1422571931,\n",
       " 1422571948,\n",
       " 1422571958,\n",
       " 1422571967,\n",
       " 1422571991,\n",
       " 1422572011,\n",
       " 1422572025,\n",
       " 1422572034,\n",
       " 1422572055,\n",
       " 1422572058,\n",
       " 1422572074,\n",
       " 1422572081,\n",
       " 1422572091,\n",
       " 1422572132,\n",
       " 1422572137,\n",
       " 1422572165,\n",
       " 1422572184,\n",
       " 1422572193,\n",
       " 1422572199,\n",
       " 1422572209,\n",
       " 1422572220,\n",
       " 1422572230,\n",
       " 1422572248,\n",
       " 1422572249,\n",
       " 1422572251,\n",
       " 1422572278,\n",
       " 1422572280,\n",
       " 1422572280,\n",
       " 1422572280,\n",
       " 1422572287,\n",
       " 1422572296,\n",
       " 1422572301,\n",
       " 1422572305,\n",
       " 1422572307,\n",
       " 1422572314,\n",
       " 1422572323,\n",
       " 1422572339,\n",
       " 1422572341,\n",
       " 1422572356,\n",
       " 1422572365,\n",
       " 1422572399,\n",
       " 1422572405,\n",
       " 1422572414,\n",
       " 1422572419,\n",
       " 1422572428,\n",
       " 1422572437,\n",
       " 1422572448,\n",
       " 1422572451,\n",
       " 1422572486,\n",
       " 1422572499,\n",
       " 1422572509,\n",
       " 1422572537,\n",
       " 1422572566,\n",
       " 1422572575,\n",
       " 1422572593,\n",
       " 1422572602,\n",
       " 1422572611,\n",
       " 1422572620,\n",
       " 1422572647,\n",
       " 1422572660,\n",
       " 1422572668,\n",
       " 1422572690,\n",
       " 1422572729,\n",
       " 1422572739,\n",
       " 1422572741,\n",
       " 1422572778,\n",
       " 1422572785,\n",
       " 1422572788,\n",
       " 1422572806,\n",
       " 1422572816,\n",
       " 1422572821,\n",
       " 1422572825,\n",
       " 1422572834,\n",
       " 1422572843,\n",
       " 1422572861,\n",
       " 1422572867,\n",
       " 1422572882,\n",
       " 1422572915,\n",
       " 1422572933,\n",
       " 1422572941,\n",
       " 1422572944,\n",
       " 1422573011,\n",
       " 1422573014,\n",
       " 1422573020,\n",
       " 1422573041,\n",
       " 1422573052,\n",
       " 1422573095,\n",
       " 1422573105,\n",
       " 1422573112,\n",
       " 1422573113,\n",
       " 1422573173,\n",
       " 1422573175,\n",
       " 1422573195,\n",
       " 1422573206,\n",
       " 1422573221,\n",
       " 1422573278,\n",
       " 1422573289,\n",
       " 1422573316,\n",
       " 1422573329,\n",
       " 1422573333,\n",
       " 1422573341,\n",
       " 1422573343,\n",
       " 1422573349,\n",
       " 1422573364,\n",
       " 1422573380,\n",
       " 1422573451,\n",
       " 1422573451,\n",
       " 1422573532,\n",
       " 1422573547,\n",
       " 1422573572,\n",
       " 1422573604,\n",
       " 1422573610,\n",
       " 1422573614,\n",
       " 1422573625,\n",
       " 1422573652,\n",
       " 1422573654,\n",
       " 1422573672,\n",
       " 1422573706,\n",
       " 1422573716,\n",
       " 1422573742,\n",
       " 1422573761,\n",
       " 1422573801,\n",
       " 1422573812,\n",
       " 1422573826,\n",
       " 1422573843,\n",
       " 1422573848,\n",
       " 1422573864,\n",
       " 1422573867,\n",
       " 1422573911,\n",
       " 1422573921,\n",
       " 1422573938,\n",
       " 1422573948,\n",
       " 1422573958,\n",
       " 1422573967,\n",
       " 1422573976,\n",
       " 1422573985,\n",
       " 1422574006,\n",
       " 1422574015,\n",
       " 1422574017,\n",
       " 1422574018,\n",
       " 1422574023,\n",
       " 1422574024,\n",
       " 1422574025,\n",
       " 1422574050,\n",
       " 1422574082,\n",
       " 1422574083,\n",
       " 1422574100,\n",
       " 1422574110,\n",
       " 1422574111,\n",
       " 1422574119,\n",
       " 1422574126,\n",
       " 1422574214,\n",
       " 1422574214,\n",
       " 1422574260,\n",
       " 1422574293,\n",
       " 1422574317,\n",
       " 1422574327,\n",
       " 1422574328,\n",
       " 1422574377,\n",
       " 1422574421,\n",
       " 1422574429,\n",
       " 1422574429,\n",
       " 1422574440,\n",
       " 1422574451,\n",
       " 1422574457,\n",
       " 1422574474,\n",
       " 1422574508,\n",
       " 1422574517,\n",
       " 1422574527,\n",
       " 1422574555,\n",
       " 1422574563,\n",
       " 1422574572,\n",
       " 1422574580,\n",
       " 1422574591,\n",
       " 1422574638,\n",
       " 1422574655,\n",
       " 1422574663,\n",
       " 1422574671,\n",
       " 1422574683,\n",
       " 1422574683,\n",
       " 1422574697,\n",
       " 1422574705,\n",
       " 1422574712,\n",
       " 1422574717,\n",
       " 1422574718,\n",
       " 1422574735,\n",
       " 1422574743,\n",
       " 1422574752,\n",
       " 1422574752,\n",
       " 1422574759,\n",
       " 1422574767,\n",
       " 1422574775,\n",
       " 1422574788,\n",
       " 1422574800,\n",
       " 1422574811,\n",
       " 1422574827,\n",
       " 1422574828,\n",
       " 1422574895,\n",
       " 1422574901,\n",
       " 1422574930,\n",
       " 1422574986,\n",
       " 1422574997,\n",
       " 1422575051,\n",
       " 1422575067,\n",
       " 1422575094,\n",
       " 1422575099,\n",
       " 1422575153,\n",
       " 1422575239,\n",
       " 1422575359,\n",
       " 1422575398,\n",
       " 1422575412,\n",
       " 1422575422,\n",
       " 1422575511,\n",
       " 1422575595,\n",
       " 1422575625,\n",
       " 1422575712,\n",
       " 1422575746,\n",
       " 1422575790,\n",
       " 1422575945]"
      ]
     },
     "execution_count": 10,
     "metadata": {},
     "output_type": "execute_result"
    }
   ],
   "source": [
    "\n",
    "tests_data_path = 'sample1_period1.txt'\n",
    "\n",
    "tests_firstpost_date = []\n",
    "tests_title = []\n",
    "tests_tweet = []\n",
    "tests_metrics = []\n",
    "tests_file = open(tests_data_path, \"rt\" )\n",
    "for line in tests_file:\n",
    "    try:\n",
    "        test = json.loads(line)\n",
    "        tests_firstpost_date.append(test['firstpost_date'])\n",
    "        tests_tweet.append(test['tweet'])\n",
    "        tests_title.append(test['title'])\n",
    "        tests_metrics .append(test['metrics'])\n",
    "    except:\n",
    "        continue\n",
    "tests_firstpost_date"
   ]
  },
  {
   "cell_type": "code",
   "execution_count": 11,
   "metadata": {
    "collapsed": true
   },
   "outputs": [],
   "source": [
    "tests = pd.DataFrame()\n",
    "tests['firstpost_date'] = tests_firstpost_date\n",
    "tests['tweet'] = tests_tweet\n",
    "tests['title'] = tests_title\n",
    "tests['metrics'] = tests_metrics\n",
    "Test_details = pd.DataFrame.from_records(tests['tweet'])\n",
    "Metrics = pd.DataFrame.from_records(tests['metrics'])\n",
    "#tests"
   ]
  },
  {
   "cell_type": "code",
   "execution_count": 12,
   "metadata": {
    "collapsed": true
   },
   "outputs": [],
   "source": [
    "test_user = []\n",
    "for elements in Test_details['user']:\n",
    "    test_user.append(elements)\n",
    "test_user = pd.DataFrame(test_user)\n",
    "#tweet_user"
   ]
  },
  {
   "cell_type": "code",
   "execution_count": 13,
   "metadata": {
    "collapsed": false
   },
   "outputs": [
    {
     "data": {
      "text/plain": [
       "[1, 29, 10]"
      ]
     },
     "execution_count": 13,
     "metadata": {},
     "output_type": "execute_result"
    }
   ],
   "source": [
    "test_initial = [datetime.fromtimestamp(tests.firstpost_date[0]).month,\n",
    "                     datetime.fromtimestamp(tests.firstpost_date[0]).day,\n",
    "                     datetime.fromtimestamp(tests.firstpost_date[0]).hour]\n",
    "test_initial"
   ]
  },
  {
   "cell_type": "code",
   "execution_count": 14,
   "metadata": {
    "collapsed": false
   },
   "outputs": [
    {
     "name": "stdout",
     "output_type": "stream",
     "text": [
      "730\n"
     ]
    }
   ],
   "source": [
    "Test_Time_stamps = []\n",
    "for x in tests['firstpost_date']:\n",
    "   Test_Time_stamps.append([datetime.fromtimestamp(x).month,  datetime.fromtimestamp(x).day,  datetime.fromtimestamp(x).hour])\n",
    "Test_Time_stamps\n",
    "print(len(Test_Time_stamps))"
   ]
  },
  {
   "cell_type": "code",
   "execution_count": 15,
   "metadata": {
    "collapsed": false
   },
   "outputs": [
    {
     "data": {
      "text/plain": [
       "array([[  1.00000000e+01,   1.37000000e+02,   3.90000000e+01,\n",
       "          1.87706600e+06,   3.80073000e+05],\n",
       "       [  1.10000000e+01,   8.20000000e+01,   1.40000000e+01,\n",
       "          9.41824000e+05,   5.95896000e+05],\n",
       "       [  1.20000000e+01,   6.80000000e+01,   8.00000000e+00,\n",
       "          1.71570670e+07,   5.62009300e+06],\n",
       "       [  1.30000000e+01,   9.40000000e+01,   5.00000000e+00,\n",
       "          2.73361000e+05,   3.84740000e+04],\n",
       "       [  1.40000000e+01,   1.71000000e+02,   1.60000000e+01,\n",
       "          2.98529000e+05,   6.42060000e+04],\n",
       "       [  1.50000000e+01,   1.78000000e+02,   2.60000000e+01,\n",
       "          3.95140000e+05,   6.25950000e+04]])"
      ]
     },
     "execution_count": 15,
     "metadata": {},
     "output_type": "execute_result"
    }
   ],
   "source": [
    "n_test_tweets = np.zeros((7,1))\n",
    "n_test_retweets = np.zeros((7,1))\n",
    "n_test_followers = np.zeros((7,1))\n",
    "max_test_followers = np.zeros((7,1))\n",
    "n_test_hours = np.zeros((7,1))\n",
    "test_day_of_week = np.zeros((7,1))\n",
    "index = 0\n",
    "for Time in Test_Time_stamps:\n",
    "    index_2 = (Time[0]-test_initial[0])*31*24 + (Time[1]-test_initial[1])*24 + (Time[2]-test_initial[2])\n",
    "    n_test_tweets[index_2] += 1\n",
    "    n_test_retweets[index_2] += Test_details.retweet_count[index]\n",
    "    n_test_followers[index_2] += test_user.followers_count[index]\n",
    "    max_test_followers[index_2] = max(test_user.followers_count[index], max_test_followers[index_2])\n",
    "    index +=1\n",
    "for i in range (0,6):\n",
    "    n_test_hours[i] = (i+test_initial[2]) % 24 \n",
    "    test_day_of_week[i] = (np.ceil((i+12) / 24)+4) % 7\n",
    "test_features_1 = np.concatenate((n_test_hours[0:-1], n_test_tweets[0:-1], n_test_retweets[0:-1], n_test_followers[0:-1],\n",
    "                                  max_test_followers[0:-1] ), axis=1)\n",
    "test_features = [n_test_hours[0:-1], n_test_tweets[0:-1], n_test_retweets[0:-1], n_test_followers[0:-1], max_test_followers[0:-1]]\n",
    "#test_features_1 = pd.DataFrame(test_features_1)\n",
    "test_features_1"
   ]
  },
  {
   "cell_type": "code",
   "execution_count": 16,
   "metadata": {
    "collapsed": false
   },
   "outputs": [
    {
     "name": "stdout",
     "output_type": "stream",
     "text": [
      "[  0.00000000e+00   1.50000000e+01   1.78000000e+02   2.60000000e+01\n",
      "   3.95140000e+05   6.25950000e+04]\n",
      "[ 136.6862607]\n"
     ]
    }
   ],
   "source": [
    "x_p = test_features_1[5]\n",
    "x_p = np.append(0,x_p)\n",
    "print(x_p)\n",
    "pr = model.predict(x_p)\n",
    "print(abs(pr))"
   ]
  },
  {
   "cell_type": "code",
   "execution_count": null,
   "metadata": {
    "collapsed": true
   },
   "outputs": [],
   "source": []
  },
  {
   "cell_type": "code",
   "execution_count": null,
   "metadata": {
    "collapsed": true
   },
   "outputs": [],
   "source": []
  }
 ],
 "metadata": {
  "kernelspec": {
   "display_name": "Python 2",
   "language": "python",
   "name": "python2"
  },
  "language_info": {
   "codemirror_mode": {
    "name": "ipython",
    "version": 2
   },
   "file_extension": ".py",
   "mimetype": "text/x-python",
   "name": "python",
   "nbconvert_exporter": "python",
   "pygments_lexer": "ipython2",
   "version": "2.7.13"
  }
 },
 "nbformat": 4,
 "nbformat_minor": 2
}
