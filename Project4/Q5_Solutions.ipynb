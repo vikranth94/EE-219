{
 "cells": [
  {
   "cell_type": "markdown",
   "metadata": {},
   "source": [
    "# Project 4 - CLUSTERING\n",
    "UID: 404749568 , 904729596 , 704774938"
   ]
  },
  {
   "cell_type": "code",
   "execution_count": 1,
   "metadata": {
    "collapsed": true
   },
   "outputs": [],
   "source": [
    "import re\n",
    "import math\n",
    "import string\n",
    "import operator\n",
    "import numpy as np\n",
    "import matplotlib.pyplot as plt\n",
    "import matplotlib.pyplot as plt; plt.rcdefaults()\n",
    "from sklearn.datasets import fetch_20newsgroups\n",
    "from sklearn.feature_extraction import text\n",
    "from sklearn.decomposition import TruncatedSVD\n",
    "from sklearn.feature_extraction.text import CountVectorizer, TfidfTransformer\n",
    "from sklearn import metrics\n",
    "from sklearn.preprocessing import MinMaxScaler\n",
    "from statsmodels.discrete.discrete_model import Logit\n",
    "from nltk import SnowballStemmer\n",
    "from sklearn.feature_extraction.text import TfidfVectorizer\n",
    "from sklearn.preprocessing import Normalizer\n",
    "from sklearn import metrics\n",
    "from sklearn.metrics import confusion_matrix\n",
    "from sklearn.cluster import KMeans\n",
    "from scipy.sparse import linalg\n",
    "from sklearn.decomposition import NMF"
   ]
  },
  {
   "cell_type": "markdown",
   "metadata": {},
   "source": [
    "## Question 5"
   ]
  },
  {
   "cell_type": "code",
   "execution_count": 3,
   "metadata": {
    "collapsed": true
   },
   "outputs": [],
   "source": [
    "twenty_train = fetch_20newsgroups(subset = 'all', shuffle=True,random_state=42)\n",
    "new_target = twenty_train.target[:]"
   ]
  },
  {
   "cell_type": "code",
   "execution_count": 4,
   "metadata": {
    "collapsed": false
   },
   "outputs": [
    {
     "name": "stdout",
     "output_type": "stream",
     "text": [
      "Dimensions of Numerical feature vector: (18846, 24283)\n",
      "Number of terms Extracted: 24283\n",
      "Dimensions of TF-IDF vector: (18846, 24283)\n"
     ]
    }
   ],
   "source": [
    "def stemming_tokenizer(text):\n",
    "    stemmer = SnowballStemmer(\"english\")\n",
    "    interim = text \n",
    "    interim = \"\".join([a for a in interim if a not in set (string.punctuation)])\n",
    "    interim = re.sub('[,.-:/()?{}*$#&]',' ',interim)\n",
    "    interim = \"\".join(b for b in interim if ord(b) < 128)\n",
    "    words = interim.split()\n",
    "    stemmed = [stemmer.stem(item) for item in words]\n",
    "    return stemmed\n",
    "final_vect = CountVectorizer(analyzer = 'word' , tokenizer = stemming_tokenizer,stop_words = 'english',min_df = 5,max_df=0.8)\n",
    "final_counts = final_vect.fit_transform(twenty_train.data)\n",
    "print(\"Dimensions of Numerical feature vector: \"+ str(final_counts.shape))\n",
    "print (\"Number of terms Extracted: \" + str(final_counts.shape[1]))\n",
    "\n",
    "#TFIDF\n",
    "tfidf_transformer = TfidfTransformer()\n",
    "X_train_tfidf = tfidf_transformer.fit_transform(final_counts)\n",
    "print(\"Dimensions of TF-IDF vector: \"+ str(X_train_tfidf.shape))\n"
   ]
  },
  {
   "cell_type": "code",
   "execution_count": 5,
   "metadata": {
    "collapsed": false
   },
   "outputs": [
    {
     "name": "stdout",
     "output_type": "stream",
     "text": [
      "[  3.81765997   3.82091415   3.83358793   3.83683577   3.84037065\n",
      "   3.85404427   3.8670715    3.87474636   3.88791474   3.89906475\n",
      "   3.90668952   3.90865025   3.91221644   3.92045755   3.9377328\n",
      "   3.94804621   3.95681301   3.96117128   3.98614042   3.99278686\n",
      "   3.99375524   3.99969073   4.01823888   4.02302262   4.03818263\n",
      "   4.05056107   4.06517333   4.07964519   4.08211187   4.09518792\n",
      "   4.12256128   4.12912362   4.13937955   4.15094987   4.16790757\n",
      "   4.18014174   4.20364096   4.20832978   4.23513686   4.25070119\n",
      "   4.26914119   4.28770886   4.30605735   4.32106727   4.34081218\n",
      "   4.35761163   4.37765991   4.39727357   4.40993431   4.42629122\n",
      "   4.43354288   4.48741765   4.49913101   4.53807685   4.55039631\n",
      "   4.56995463   4.58405586   4.62445108   4.63845478   4.66931913\n",
      "   4.69417199   4.73801623   4.74971926   4.78219596   4.81213052\n",
      "   4.82015852   4.84838011   4.86521539   4.89190857   4.89872394\n",
      "   4.94012327   4.96358448   5.00348745   5.05472061   5.0823723\n",
      "   5.14228032   5.18189133   5.19853931   5.22556285   5.25787935\n",
      "   5.43408341   5.45963985   5.58537306   5.62346594   5.71743576\n",
      "   5.7601178    5.89975178   5.94732726   6.02464842   6.12545529\n",
      "   6.23921474   6.44298372   6.58247686   6.8985259    7.16888581\n",
      "   7.55657506   7.96873857   8.32612718  10.27021494  18.88084837]\n"
     ]
    }
   ],
   "source": [
    "U, s, V = linalg.svds(X_train_tfidf,k=100)\n",
    "print(s)"
   ]
  },
  {
   "cell_type": "code",
   "execution_count": 16,
   "metadata": {
    "collapsed": false,
    "scrolled": true
   },
   "outputs": [
    {
     "name": "stdout",
     "output_type": "stream",
     "text": [
      "Dimensions of TF-IDF vector after LSI: (18846, 1)\n",
      "Homogeneity: 0.024\n",
      "Completeness: 0.026\n",
      "V-measure: 0.025\n",
      "Adjusted Rand-Index: 0.005\n",
      "Adjusted Mutual-Index: 0.021\n",
      "Dimensions of TF-IDF vector after LSI: (18846, 2)\n",
      "Homogeneity: 0.233\n",
      "Completeness: 0.246\n",
      "V-measure: 0.240\n",
      "Adjusted Rand-Index: 0.074\n",
      "Adjusted Mutual-Index: 0.231\n",
      "Dimensions of TF-IDF vector after LSI: (18846, 3)\n",
      "Homogeneity: 0.305\n",
      "Completeness: 0.322\n",
      "V-measure: 0.313\n",
      "Adjusted Rand-Index: 0.109\n",
      "Adjusted Mutual-Index: 0.302\n",
      "Dimensions of TF-IDF vector after LSI: (18846, 4)\n",
      "Homogeneity: 0.347\n",
      "Completeness: 0.373\n",
      "V-measure: 0.360\n",
      "Adjusted Rand-Index: 0.133\n",
      "Adjusted Mutual-Index: 0.345\n",
      "Dimensions of TF-IDF vector after LSI: (18846, 5)\n",
      "Homogeneity: 0.369\n",
      "Completeness: 0.403\n",
      "V-measure: 0.385\n",
      "Adjusted Rand-Index: 0.152\n",
      "Adjusted Mutual-Index: 0.367\n",
      "Dimensions of TF-IDF vector after LSI: (18846, 6)\n",
      "Homogeneity: 0.383\n",
      "Completeness: 0.419\n",
      "V-measure: 0.400\n",
      "Adjusted Rand-Index: 0.161\n",
      "Adjusted Mutual-Index: 0.381\n",
      "Dimensions of TF-IDF vector after LSI: (18846, 7)\n",
      "Homogeneity: 0.393\n",
      "Completeness: 0.429\n",
      "V-measure: 0.410\n",
      "Adjusted Rand-Index: 0.165\n",
      "Adjusted Mutual-Index: 0.391\n",
      "Dimensions of TF-IDF vector after LSI: (18846, 8)\n",
      "Homogeneity: 0.390\n",
      "Completeness: 0.430\n",
      "V-measure: 0.409\n",
      "Adjusted Rand-Index: 0.164\n",
      "Adjusted Mutual-Index: 0.388\n",
      "Dimensions of TF-IDF vector after LSI: (18846, 9)\n",
      "Homogeneity: 0.388\n",
      "Completeness: 0.437\n",
      "V-measure: 0.411\n",
      "Adjusted Rand-Index: 0.154\n",
      "Adjusted Mutual-Index: 0.386\n",
      "Dimensions of TF-IDF vector after LSI: (18846, 10)\n",
      "Homogeneity: 0.386\n",
      "Completeness: 0.427\n",
      "V-measure: 0.405\n",
      "Adjusted Rand-Index: 0.157\n",
      "Adjusted Mutual-Index: 0.384\n",
      "Dimensions of TF-IDF vector after LSI: (18846, 11)\n",
      "Homogeneity: 0.397\n",
      "Completeness: 0.449\n",
      "V-measure: 0.422\n",
      "Adjusted Rand-Index: 0.163\n",
      "Adjusted Mutual-Index: 0.395\n",
      "Dimensions of TF-IDF vector after LSI: (18846, 12)\n",
      "Homogeneity: 0.404\n",
      "Completeness: 0.452\n",
      "V-measure: 0.426\n",
      "Adjusted Rand-Index: 0.162\n",
      "Adjusted Mutual-Index: 0.402\n",
      "Dimensions of TF-IDF vector after LSI: (18846, 13)\n",
      "Homogeneity: 0.412\n",
      "Completeness: 0.452\n",
      "V-measure: 0.431\n",
      "Adjusted Rand-Index: 0.177\n",
      "Adjusted Mutual-Index: 0.410\n",
      "Dimensions of TF-IDF vector after LSI: (18846, 14)\n",
      "Homogeneity: 0.415\n",
      "Completeness: 0.460\n",
      "V-measure: 0.436\n",
      "Adjusted Rand-Index: 0.174\n",
      "Adjusted Mutual-Index: 0.413\n",
      "Dimensions of TF-IDF vector after LSI: (18846, 15)\n",
      "Homogeneity: 0.398\n",
      "Completeness: 0.450\n",
      "V-measure: 0.422\n",
      "Adjusted Rand-Index: 0.167\n",
      "Adjusted Mutual-Index: 0.396\n",
      "Dimensions of TF-IDF vector after LSI: (18846, 16)\n",
      "Homogeneity: 0.401\n",
      "Completeness: 0.449\n",
      "V-measure: 0.423\n",
      "Adjusted Rand-Index: 0.166\n",
      "Adjusted Mutual-Index: 0.399\n"
     ]
    }
   ],
   "source": [
    "rand_array = [0]*16\n",
    "for i in range(1,17):    \n",
    "    svd = TruncatedSVD(n_components=i, random_state=42)\n",
    "    transformed_tfidf = svd.fit_transform(X_train_tfidf)\n",
    "    print(\"Dimensions of TF-IDF vector after LSI: \"+ str(transformed_tfidf.shape))\n",
    "    from sklearn.metrics import confusion_matrix\n",
    "    km = KMeans(n_clusters=20, init='k-means++', max_iter=300, n_init=10)\n",
    "    km.fit(transformed_tfidf)\n",
    "    print(\"Homogeneity: %0.3f\" % metrics.homogeneity_score(new_target, km.labels_))\n",
    "    print(\"Completeness: %0.3f\" % metrics.completeness_score(new_target, km.labels_))\n",
    "    print(\"V-measure: %0.3f\" % metrics.v_measure_score(new_target, km.labels_))\n",
    "    print(\"Adjusted Rand-Index: %.3f\"\n",
    "          % metrics.adjusted_rand_score(new_target, km.labels_))\n",
    "    print(\"Adjusted Mutual-Index: %.3f\"\n",
    "          % metrics.adjusted_mutual_info_score(new_target, km.labels_))\n",
    "    #print(confusion_matrix(new_target, km.labels_))\n",
    "    rand_array[i%16] = metrics.adjusted_rand_score(new_target, km.labels_)"
   ]
  },
  {
   "cell_type": "code",
   "execution_count": 17,
   "metadata": {
    "collapsed": false
   },
   "outputs": [
    {
     "name": "stdout",
     "output_type": "stream",
     "text": [
      "[0.16610018641973545, 0.005038175717161346, 0.07431684507804032, 0.10942015924589377, 0.1331020150519322, 0.15163829817892238, 0.161112443551992, 0.16461392110608353, 0.16364912251439706, 0.15392836547665198, 0.15651054627346245, 0.1630391944481179, 0.16162064398619652, 0.1771628237016831, 0.17394282296980063, 0.16672208652985535]\n",
      "0.177162823702\n"
     ]
    }
   ],
   "source": [
    "print(rand_array)\n",
    "print(np.amax(rand_array))\n",
    "#best is n_components = 14"
   ]
  },
  {
   "cell_type": "code",
   "execution_count": 18,
   "metadata": {
    "collapsed": false,
    "scrolled": true
   },
   "outputs": [
    {
     "name": "stdout",
     "output_type": "stream",
     "text": [
      "(18846, 1)\n",
      "Homogeneity: 0.024\n",
      "Completeness: 0.026\n",
      "V-measure: 0.025\n",
      "Adjusted Rand-Index: 0.005\n",
      "Adjusted Mutual-Index: 0.021\n",
      "(18846, 2)\n",
      "Homogeneity: 0.218\n",
      "Completeness: 0.229\n",
      "V-measure: 0.223\n",
      "Adjusted Rand-Index: 0.069\n",
      "Adjusted Mutual-Index: 0.215\n",
      "(18846, 3)\n",
      "Homogeneity: 0.300\n",
      "Completeness: 0.321\n",
      "V-measure: 0.310\n",
      "Adjusted Rand-Index: 0.110\n",
      "Adjusted Mutual-Index: 0.298\n",
      "(18846, 4)\n",
      "Homogeneity: 0.326\n",
      "Completeness: 0.347\n",
      "V-measure: 0.336\n",
      "Adjusted Rand-Index: 0.116\n",
      "Adjusted Mutual-Index: 0.324\n",
      "(18846, 5)\n",
      "Homogeneity: 0.344\n",
      "Completeness: 0.384\n",
      "V-measure: 0.363\n",
      "Adjusted Rand-Index: 0.130\n",
      "Adjusted Mutual-Index: 0.342\n",
      "(18846, 6)\n",
      "Homogeneity: 0.371\n",
      "Completeness: 0.418\n",
      "V-measure: 0.393\n",
      "Adjusted Rand-Index: 0.140\n",
      "Adjusted Mutual-Index: 0.369\n",
      "(18846, 7)\n",
      "Homogeneity: 0.390\n",
      "Completeness: 0.440\n",
      "V-measure: 0.414\n",
      "Adjusted Rand-Index: 0.150\n",
      "Adjusted Mutual-Index: 0.388\n",
      "(18846, 8)\n",
      "Homogeneity: 0.371\n",
      "Completeness: 0.412\n",
      "V-measure: 0.391\n",
      "Adjusted Rand-Index: 0.145\n",
      "Adjusted Mutual-Index: 0.369\n",
      "(18846, 9)\n",
      "Homogeneity: 0.345\n",
      "Completeness: 0.396\n",
      "V-measure: 0.369\n",
      "Adjusted Rand-Index: 0.127\n",
      "Adjusted Mutual-Index: 0.343\n",
      "(18846, 10)\n",
      "Homogeneity: 0.378\n",
      "Completeness: 0.429\n",
      "V-measure: 0.402\n",
      "Adjusted Rand-Index: 0.149\n",
      "Adjusted Mutual-Index: 0.376\n",
      "(18846, 11)\n",
      "Homogeneity: 0.425\n",
      "Completeness: 0.462\n",
      "V-measure: 0.443\n",
      "Adjusted Rand-Index: 0.188\n",
      "Adjusted Mutual-Index: 0.424\n",
      "(18846, 12)\n",
      "Homogeneity: 0.353\n",
      "Completeness: 0.405\n",
      "V-measure: 0.377\n",
      "Adjusted Rand-Index: 0.152\n",
      "Adjusted Mutual-Index: 0.351\n",
      "(18846, 13)\n",
      "Homogeneity: 0.369\n",
      "Completeness: 0.432\n",
      "V-measure: 0.398\n",
      "Adjusted Rand-Index: 0.148\n",
      "Adjusted Mutual-Index: 0.367\n",
      "(18846, 14)\n",
      "Homogeneity: 0.387\n",
      "Completeness: 0.459\n",
      "V-measure: 0.420\n",
      "Adjusted Rand-Index: 0.153\n",
      "Adjusted Mutual-Index: 0.385\n"
     ]
    }
   ],
   "source": [
    "rand_array = [0]*15\n",
    "for i in range(1,15):\n",
    "    model = NMF(n_components=i, init='random', random_state=0)\n",
    "    nmf_mat= model.fit_transform(X_train_tfidf) \n",
    "    print(nmf_mat.shape)\n",
    "    km = KMeans(n_clusters=20, init='k-means++', max_iter=300, n_init=10)\n",
    "    km.fit(nmf_mat)\n",
    "    print(\"Homogeneity: %0.3f\" % metrics.homogeneity_score(new_target, km.labels_))\n",
    "    print(\"Completeness: %0.3f\" % metrics.completeness_score(new_target, km.labels_))\n",
    "    print(\"V-measure: %0.3f\" % metrics.v_measure_score(new_target, km.labels_))\n",
    "    print(\"Adjusted Rand-Index: %.3f\"% metrics.adjusted_rand_score(new_target, km.labels_))\n",
    "    print(\"Adjusted Mutual-Index: %.3f\"% metrics.adjusted_mutual_info_score(new_target, km.labels_))\n",
    "    #print(confusion_matrix(new_target, km.labels_))\n",
    "    rand_array[i%15] = metrics.adjusted_rand_score(new_target, km.labels_)"
   ]
  },
  {
   "cell_type": "code",
   "execution_count": 19,
   "metadata": {
    "collapsed": false
   },
   "outputs": [
    {
     "name": "stdout",
     "output_type": "stream",
     "text": [
      "[0, 0.005097770080106247, 0.0688620710970322, 0.10982684906635375, 0.11562671380262218, 0.12994058766856656, 0.1396986514932432, 0.15008039963598618, 0.14494374452247719, 0.1266882079737458, 0.1486180498436126, 0.1876807054097888, 0.15232278821066145, 0.14788239656059288, 0.15335244530518402]\n",
      "0.18768070541\n"
     ]
    }
   ],
   "source": [
    "print(rand_array)\n",
    "print(np.amax(rand_array))\n",
    "#best is n_components = 11"
   ]
  },
  {
   "cell_type": "code",
   "execution_count": 24,
   "metadata": {
    "collapsed": true
   },
   "outputs": [],
   "source": [
    "#Non linear Logarithmic transformation\n",
    "tfidf_transformer_log = TfidfTransformer(sublinear_tf = True)\n",
    "X_train_tfidf_log = tfidf_transformer_log.fit_transform(final_counts)"
   ]
  },
  {
   "cell_type": "code",
   "execution_count": 25,
   "metadata": {
    "collapsed": false
   },
   "outputs": [
    {
     "name": "stdout",
     "output_type": "stream",
     "text": [
      "Homogeneity: 0.439\n",
      "Completeness: 0.476\n",
      "V-measure: 0.456\n",
      "Adjusted Rand-Index: 0.227\n",
      "Adjusted Mutual-Index: 0.437\n"
     ]
    }
   ],
   "source": [
    "svd = TruncatedSVD(n_components=15, random_state=42)\n",
    "transformed_tfidf_log = svd.fit_transform(X_train_tfidf_log)\n",
    "km = KMeans(n_clusters=20, init='k-means++', max_iter=300, n_init=10)\n",
    "km.fit(transformed_tfidf_log)\n",
    "print(\"Homogeneity: %0.3f\" % metrics.homogeneity_score(new_target, km.labels_))\n",
    "print(\"Completeness: %0.3f\" % metrics.completeness_score(new_target, km.labels_))\n",
    "print(\"V-measure: %0.3f\" % metrics.v_measure_score(new_target, km.labels_))\n",
    "print(\"Adjusted Rand-Index: %.3f\"% metrics.adjusted_rand_score(new_target, km.labels_))\n",
    "print(\"Adjusted Mutual-Index: %.3f\"% metrics.adjusted_mutual_info_score(new_target, km.labels_))"
   ]
  },
  {
   "cell_type": "code",
   "execution_count": 26,
   "metadata": {
    "collapsed": false
   },
   "outputs": [
    {
     "name": "stdout",
     "output_type": "stream",
     "text": [
      "Homogeneity: 0.474\n",
      "Completeness: 0.498\n",
      "V-measure: 0.486\n",
      "Adjusted Rand-Index: 0.252\n",
      "Adjusted Mutual-Index: 0.473\n"
     ]
    }
   ],
   "source": [
    "model = NMF(n_components=11, init='random', random_state=0)\n",
    "nmf_mat_log= model.fit_transform(X_train_tfidf_log)\n",
    "km = KMeans(n_clusters=20, init='k-means++', max_iter=300, n_init=10)\n",
    "km.fit(nmf_mat_log)\n",
    "print(\"Homogeneity: %0.3f\" % metrics.homogeneity_score(new_target, km.labels_))\n",
    "print(\"Completeness: %0.3f\" % metrics.completeness_score(new_target, km.labels_))\n",
    "print(\"V-measure: %0.3f\" % metrics.v_measure_score(new_target, km.labels_))\n",
    "print(\"Adjusted Rand-Index: %.3f\"\n",
    "      % metrics.adjusted_rand_score(new_target, km.labels_))\n",
    "print(\"Adjusted Mutual-Index: %.3f\"\n",
    "      % metrics.adjusted_mutual_info_score(new_target, km.labels_))\n",
    "#print(confusion_matrix(new_target, km.labels_))"
   ]
  },
  {
   "cell_type": "code",
   "execution_count": null,
   "metadata": {
    "collapsed": true
   },
   "outputs": [],
   "source": []
  }
 ],
 "metadata": {
  "kernelspec": {
   "display_name": "Python 3",
   "language": "python",
   "name": "python3"
  },
  "language_info": {
   "codemirror_mode": {
    "name": "ipython",
    "version": 3
   },
   "file_extension": ".py",
   "mimetype": "text/x-python",
   "name": "python",
   "nbconvert_exporter": "python",
   "pygments_lexer": "ipython3",
   "version": "3.5.2"
  }
 },
 "nbformat": 4,
 "nbformat_minor": 1
}
